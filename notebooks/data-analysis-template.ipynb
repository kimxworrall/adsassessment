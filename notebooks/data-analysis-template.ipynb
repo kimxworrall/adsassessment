{
 "cells": [
  {
   "cell_type": "markdown",
   "id": "98bf38a3",
   "metadata": {},
   "source": [
    "# Python Fynesse Data Analysis Template\n",
    "\n",
    "### 31st May 2021\n",
    "\n",
    "### Neil D. Lawrence\n",
    "\n",
    "### Updated 31st October 2021\n",
    "\n",
    "This notebook serves as a stub for the fynesse data analysis pipeline.\n"
   ]
  },
  {
   "cell_type": "code",
   "execution_count": null,
   "id": "3d81c9b5",
   "metadata": {},
   "outputs": [],
   "source": [
    "%pip uninstall --yes fynesse\n",
    "# Replace this with the location of your fynesse implementation.\n",
    "%pip install git+https://github.com/lawrennd/fynesse_template.git\n"
   ]
  },
  {
   "cell_type": "code",
   "execution_count": null,
   "id": "3f2a9043",
   "metadata": {},
   "outputs": [],
   "source": [
    "import fynesse"
   ]
  },
  {
   "cell_type": "code",
   "execution_count": null,
   "id": "332048de",
   "metadata": {},
   "outputs": [],
   "source": [
    "fynesse.access.config['data_url']"
   ]
  },
  {
   "cell_type": "code",
   "execution_count": null,
   "id": "d30ff51b",
   "metadata": {},
   "outputs": [],
   "source": []
  },
  {
   "cell_type": "markdown",
   "id": "7e27027c",
   "metadata": {},
   "source": [
    "First a quick analysis of the data as it is, which values are missing, and where there might be anomalies"
   ]
  },
  {
   "cell_type": "markdown",
   "id": "63e5f003",
   "metadata": {},
   "source": [
    "The first action was to briefly look through the files that hold house price data, and normalise the uploads by adding the 'OPTIONALLY ENCLOSED BY `\"\"`' line.\n",
    "This was necessary as the csv files from 1995-1998 are saved as csvs of strings marked by \"\", and strings in later files are also enclosed by the double quotation marks.\n",
    "\n",
    "The column that indicates a flat or apartment name can contain nulls, but this will be accounted for.\n",
    "\n",
    "Some transactions will be missing from this data set as only properties registered with the HM Land registry that are sold for value are listed.\n",
    "\n",
    "Some properties that have been in the same ownership since before 1990 and have not been mortgaged since will not be available. \n",
    "Further only sales for value are listed, some properties are inherited, given, or exchanged, and thus these transactions are not included.\n",
    "\n",
    "This excludes two types of residential property, that owned by nobility or large landowners over many generations (for example royal homes, or old farms), and new builds that have not yet been sold. \n",
    "These would be the most difficult to value from the set of data, old properties can often be worth a large amount of money, and this would not be calculable necessarily by location, as historical value, property size on the land, and even wealth of the owner can all be crucial factors. Further they are not necessarily near any other similar properties.\n",
    "New builds would also be difficult, as if the size of the total development is not known (only a location, and property type), and the quality of the work not yet known, then only a rough estimate can be given. A better source for this would be to look at the predicted price from the developer, and a comparison with recently sold similar new builds."
   ]
  },
  {
   "cell_type": "markdown",
   "id": "40699321",
   "metadata": {},
   "source": [
    "File that holds postcode data\n",
    "-frequent changes!"
   ]
  },
  {
   "cell_type": "markdown",
   "id": "8d6fe43a",
   "metadata": {},
   "source": [
    "We now consider aspects of the paid price data and what we can learn from them:\n",
    "We know that location and year sold will be aspects of this project"
   ]
  },
  {
   "cell_type": "markdown",
   "id": "5914af92",
   "metadata": {},
   "source": [
    "First we will consider the different types of property, the types of which can be selected from the database and seen as follows:"
   ]
  },
  {
   "cell_type": "code",
   "execution_count": null,
   "id": "017ad2e6",
   "metadata": {},
   "outputs": [],
   "source": [
    "select_unique_vals(table,column_name) #this function allows selection of the unique values in a column\n",
    "#Bounded?"
   ]
  },
  {
   "cell_type": "markdown",
   "id": "8997f1fc",
   "metadata": {},
   "source": [
    "We see that the possible property types are:\n",
    "Flats (includes maisonettes), Semi-Detached, Detached, Terraced\n",
    "\n",
    "If we plot these against prices throughout the UK for 2022, we can see that there is indeed a significant split between the different types of property:"
   ]
  },
  {
   "cell_type": "code",
   "execution_count": null,
   "id": "c44350c7",
   "metadata": {},
   "outputs": [],
   "source": [
    "plot_prices_propertytypes(\"all\")"
   ]
  },
  {
   "cell_type": "markdown",
   "id": "a966bd70",
   "metadata": {},
   "source": [
    "We note that average prices for terraced houses and flats across the UK appear very similar, which is initially surprising, but makes sense when we consider the number of terraced houses () compared to the number of flats sold () and further the distribution of the prices for each.\n",
    "\n",
    "Further consider the variance in prices for each type of property:\n",
    "\n",
    "Some flats sell for extremely high sums,\n",
    "it is of course therefore pertinent to consider prices according to location.\n"
   ]
  },
  {
   "cell_type": "code",
   "execution_count": null,
   "id": "41cab767",
   "metadata": {},
   "outputs": [],
   "source": [
    "Average price of property type per location (counties?)"
   ]
  },
  {
   "cell_type": "markdown",
   "id": "b098de12",
   "metadata": {},
   "source": [
    "Prices of flats in london are significantly higher than\n",
    "So therefore it would be sensible to choose a model where price prediction models are chosen by what type of property it is, and then use function of the location and features of the property"
   ]
  },
  {
   "cell_type": "code",
   "execution_count": null,
   "id": "5a88bfe8",
   "metadata": {},
   "outputs": [],
   "source": []
  }
 ],
 "metadata": {
  "kernelspec": {
   "display_name": "Python 3.10.8 64-bit (microsoft store)",
   "language": "python",
   "name": "python3"
  },
  "language_info": {
   "codemirror_mode": {
    "name": "ipython",
    "version": 3
   },
   "file_extension": ".py",
   "mimetype": "text/x-python",
   "name": "python",
   "nbconvert_exporter": "python",
   "pygments_lexer": "ipython3",
   "version": "3.10.8"
  },
  "vscode": {
   "interpreter": {
    "hash": "640aa47efd1b63321ed3ce93a66949ce6cea1f9dca442bb8995833d694009b2e"
   }
  }
 },
 "nbformat": 4,
 "nbformat_minor": 5
}
