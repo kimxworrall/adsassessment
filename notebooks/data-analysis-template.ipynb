{
 "cells": [
  {
   "cell_type": "markdown",
   "id": "98bf38a3",
   "metadata": {},
   "source": [
    "# Python Fynesse Data Analysis Template\n",
    "\n",
    "### 31st May 2021\n",
    "\n",
    "### Neil D. Lawrence\n",
    "\n",
    "### Updated 31st October 2021\n",
    "\n",
    "This notebook serves as a stub for the fynesse data analysis pipeline.\n"
   ]
  },
  {
   "cell_type": "code",
   "execution_count": null,
   "id": "3d81c9b5",
   "metadata": {},
   "outputs": [],
   "source": [
    "%pip uninstall --yes fynesse\n",
    "# Replace this with the location of your fynesse implementation.\n",
    "%pip install git+https://github.com/lawrennd/fynesse_template.git\n"
   ]
  },
  {
   "cell_type": "code",
   "execution_count": null,
   "id": "3f2a9043",
   "metadata": {},
   "outputs": [],
   "source": [
    "import fynesse"
   ]
  },
  {
   "cell_type": "code",
   "execution_count": null,
   "id": "332048de",
   "metadata": {},
   "outputs": [],
   "source": [
    "fynesse.access.config['data_url']"
   ]
  },
  {
   "cell_type": "code",
   "execution_count": null,
   "id": "d30ff51b",
   "metadata": {},
   "outputs": [],
   "source": []
  },
  {
   "cell_type": "markdown",
   "id": "7e27027c",
   "metadata": {},
   "source": [
    "First a quick analysis of the data as it is, which values are missing, and where there might be anomalies"
   ]
  },
  {
   "cell_type": "markdown",
   "id": "63e5f003",
   "metadata": {},
   "source": [
    "# Initial assessment of paid price data\n",
    "The first action was to briefly look through the files that hold house price data, and normalise the uploads by adding the 'OPTIONALLY ENCLOSED BY `\"\"`' line.\n",
    "This was necessary as the csv files from 1995-1998 are saved as csvs of strings marked by \"\", and strings in later files are also enclosed by the double quotation marks.\n",
    "\n",
    "The column that indicates a flat or apartment name can contain nulls, but this will be accounted for.\n",
    "\n",
    "Some transactions will be missing from this data set as only properties registered with the HM Land registry that are sold for value are listed.\n",
    "\n",
    "Some properties that have been in the same ownership since before 1990 and have not been mortgaged since will not be available. \n",
    "Further only sales for value are listed, some properties are inherited, given, or exchanged, and thus these transactions are not included.\n",
    "\n",
    "This excludes two types of residential property, that owned by nobility or large landowners over many generations (for example royal homes, or old farms), and new builds that have not yet been sold. \n",
    "These would be the most difficult to value from the set of data, old properties can often be worth a large amount of money, and this would not be calculable necessarily by location, as historical value, property size on the land, and even wealth of the owner can all be crucial factors. Further they are not necessarily near any other similar properties.\n",
    "New builds would also be difficult, as if the size of the total development is not known (only a location, and property type), and the quality of the work not yet known, then only a rough estimate can be given. A better source for this would be to look at the predicted price from the developer, and a comparison with recently sold similar new builds."
   ]
  },
  {
   "cell_type": "markdown",
   "id": "732cf988",
   "metadata": {},
   "source": [
    "Now if we look solely at the 2022 data, we can check for anomalies in the prices.\n",
    "When looking at the Cumalitive Distribution Function of terraced house prices from 2022, we saw this graph:"
   ]
  },
  {
   "cell_type": "markdown",
   "id": "17353c59",
   "metadata": {},
   "source": [
    "£120 million is very expensive, and on inspection of the record that has this price we can find the house location."
   ]
  },
  {
   "cell_type": "code",
   "execution_count": null,
   "id": "1e18467d",
   "metadata": {},
   "outputs": [],
   "source": []
  },
  {
   "cell_type": "markdown",
   "id": "7332ce6e",
   "metadata": {},
   "source": [
    "Inspection of this house online, and a listing for another of the houses in its block reveal that the real price sold for was actually £1.2 million.\n",
    "The error that happened here is that the price is written with an extra two zeros in the dataset retrieved from the HM Land Registry (to represent pennies) but there is no decimal point.\n",
    "To now clean the data, we should check the most expensive and the cheapest properties.\n",
    "The cheapest terraced house was £12,000. (This on inspection turned out to be wrong and actually that property was sold for £120,000).\n",
    "As the mean of the terraced house prices was of order of magnitude around £100,000 , the add two zeros error would signify houses with prices of more than £10,000,000.\n",
    "Looking at these gave:"
   ]
  },
  {
   "cell_type": "markdown",
   "id": "fc5fa20d",
   "metadata": {},
   "source": [
    "Two of these houses were listed wrong.\n",
    "(incidentally it is the two highest and two lowest values in this data set that have been identified as wrong)\n",
    "It is thus pertinent to introduce a function that cleans our data before using it as training as on order of magnitude 100 error would badly affect our model.\n",
    "Therefore, an anomaly removing function that for a postcode/place removes points that are more than 50 times the average or less than 0.1 times would be appropriate. As there are more likely to be larger prices appearing correctly than lower prices, the function will be more lenient on higher prices, so looking between the 95th percentile and the 10th percentile of prices for the area."
   ]
  },
  {
   "cell_type": "markdown",
   "id": "40699321",
   "metadata": {},
   "source": [
    "File that holds postcode data\n",
    "-frequent changes!"
   ]
  },
  {
   "cell_type": "markdown",
   "id": "8d6fe43a",
   "metadata": {},
   "source": [
    "We now consider aspects of the paid price data and what we can learn from them:\n",
    "We know that location and year sold will be aspects of this project"
   ]
  },
  {
   "cell_type": "markdown",
   "id": "5914af92",
   "metadata": {},
   "source": [
    "First we will consider the different types of property, the types of which can be selected from the database and seen as follows:"
   ]
  },
  {
   "cell_type": "code",
   "execution_count": null,
   "id": "017ad2e6",
   "metadata": {},
   "outputs": [],
   "source": [
    "select_unique_vals(table,column_name) #this function allows selection of the unique values in a column\n",
    "#Bounded?"
   ]
  },
  {
   "cell_type": "markdown",
   "id": "8997f1fc",
   "metadata": {},
   "source": [
    "We see that the possible property types are:\n",
    "Flats (includes maisonettes), Semi-Detached, Detached, Terraced\n",
    "\n",
    "If we plot these against prices throughout the UK for 2022, we can see that there is indeed a significant split between the different types of property:"
   ]
  },
  {
   "cell_type": "code",
   "execution_count": null,
   "id": "c44350c7",
   "metadata": {},
   "outputs": [],
   "source": [
    "plot_prices_propertytypes(\"all\")"
   ]
  },
  {
   "cell_type": "markdown",
   "id": "a966bd70",
   "metadata": {},
   "source": [
    "We note that average prices for terraced houses and flats across the UK appear very similar, which is initially surprising, but makes sense when we consider the number of terraced houses () compared to the number of flats sold () and further the distribution of the prices for each.\n",
    "\n",
    "Further consider the variance in prices for each type of property:\n",
    "\n",
    "Some flats sell for extremely high sums,\n",
    "it is of course therefore pertinent to consider prices according to location.\n"
   ]
  },
  {
   "cell_type": "code",
   "execution_count": null,
   "id": "41cab767",
   "metadata": {},
   "outputs": [],
   "source": [
    "Average price of property type per location (counties?)"
   ]
  },
  {
   "cell_type": "markdown",
   "id": "b098de12",
   "metadata": {},
   "source": [
    "Prices of flats in london are significantly higher than\n",
    "So therefore it would be sensible to choose a model where price prediction models are chosen by what type of property it is, and then use function of the location and features of the property"
   ]
  },
  {
   "cell_type": "code",
   "execution_count": null,
   "id": "5a88bfe8",
   "metadata": {},
   "outputs": [],
   "source": []
  },
  {
   "cell_type": "markdown",
   "id": "02ae25d7",
   "metadata": {},
   "source": [
    "# Limitations of OSMNX data\n",
    "\n",
    "On initial look throughs of OSM data, there are some immediate problems, mainly that as OSM is crowd-sourced, there are lots of missing data points.\n",
    "\n",
    "One example is to look at this plot of all buildings in a 1km bounding box in a residential area in south london.\n",
    "The plot shows many streets as empty without buildings, but looking at the corresponding google maps satellite image, there are indeed many houses.\n",
    "\n",
    "This indicates that using the data to match sold houses to buildings in OSM data will not be completely reliable."
   ]
  },
  {
   "cell_type": "code",
   "execution_count": null,
   "id": "c7c7d6d3",
   "metadata": {},
   "outputs": [],
   "source": []
  }
 ],
 "metadata": {
  "kernelspec": {
   "display_name": "Python 3.10.8 64-bit (microsoft store)",
   "language": "python",
   "name": "python3"
  },
  "language_info": {
   "codemirror_mode": {
    "name": "ipython",
    "version": 3
   },
   "file_extension": ".py",
   "mimetype": "text/x-python",
   "name": "python",
   "nbconvert_exporter": "python",
   "pygments_lexer": "ipython3",
   "version": "3.10.8"
  },
  "vscode": {
   "interpreter": {
    "hash": "640aa47efd1b63321ed3ce93a66949ce6cea1f9dca442bb8995833d694009b2e"
   }
  }
 },
 "nbformat": 4,
 "nbformat_minor": 5
}
